{
 "cells": [
  {
   "cell_type": "markdown",
   "metadata": {},
   "source": [
    "DCG function"
   ]
  },
  {
   "cell_type": "code",
   "execution_count": null,
   "metadata": {},
   "outputs": [],
   "source": [
    "import numpy as np\n",
    "import pandas as pd\n",
    "import pickle"
   ]
  },
  {
   "cell_type": "code",
   "execution_count": null,
   "metadata": {},
   "outputs": [],
   "source": [
    "pred_class = ['2', '6', '10', '12', '13', '15', '18', '19', '21', '22', '25', '26', '36', '37', '39', '48']"
   ]
  },
  {
   "cell_type": "code",
   "execution_count": null,
   "metadata": {},
   "outputs": [],
   "source": [
    "dat = pd.read_csv('tbrain_cc_training_48tags_hash_final.csv', usecols=['dt', 'chid', 'shop_tag', 'txn_amt'])"
   ]
  },
  {
   "cell_type": "code",
   "execution_count": null,
   "metadata": {},
   "outputs": [],
   "source": [
    "re_txn_amt = pd.DataFrame({'txn_amt':np.sort(dat['txn_amt'].unique())}).reset_index().rename(columns = {'index':'sort_txn_amt'})\n",
    "\n",
    "dat = dat.merge(re_txn_amt, on = 'txn_amt', how = 'left')"
   ]
  },
  {
   "cell_type": "code",
   "execution_count": null,
   "metadata": {},
   "outputs": [],
   "source": [
    "sample_dat = dat[dat['shop_tag'].isin(pred_class)]\n",
    "\n",
    "train_dat = sample_dat[sample_dat['dt']!=24]\n",
    "\n",
    "valid_dat = sample_dat[sample_dat['dt']==24]\n",
    "valid_dat = valid_dat[valid_dat.chid.isin(train_dat.chid.unique())]"
   ]
  },
  {
   "cell_type": "code",
   "execution_count": null,
   "metadata": {},
   "outputs": [],
   "source": [
    "def DCG(df, tag_list):\n",
    "    \n",
    "    dcg_sum = 0\n",
    "    for i,tag in enumerate(tag_list):\n",
    "        if tag in df['shop_tag'].values:\n",
    "            v = df[df['shop_tag']==tag]['txn_amt'].values[0]\n",
    "        else:\n",
    "            v = 0\n",
    "        dcg_sum += v/np.log2(2+i)\n",
    "    \n",
    "    return dcg_sum"
   ]
  },
  {
   "cell_type": "code",
   "execution_count": null,
   "metadata": {},
   "outputs": [],
   "source": [
    "%%time\n",
    "\n",
    "gd_tag = {}\n",
    "for chid, group_df in valid_dat.groupby('chid')[['txn_amt', 'shop_tag']]:\n",
    "    \n",
    "    tag= group_df.sort_values('txn_amt', ascending = False)['shop_tag'].head(3).values\n",
    "    gd_tag[chid] = [chid, tag, DCG(group_df, tag)]"
   ]
  },
  {
   "cell_type": "code",
   "execution_count": null,
   "metadata": {},
   "outputs": [],
   "source": [
    "gd_df = pd.DataFrame(gd_tag.values(), columns = ['chid', 'tag_list', 'iDCG'])"
   ]
  },
  {
   "cell_type": "code",
   "execution_count": null,
   "metadata": {},
   "outputs": [],
   "source": [
    "gd_dict = {}\n",
    "for i, row in  gd_df.iterrows():\n",
    "    gd_dict[row['chid']] = row['iDCG']"
   ]
  },
  {
   "cell_type": "code",
   "execution_count": null,
   "metadata": {},
   "outputs": [],
   "source": [
    "with open('m24_iDCG.pkl', 'wb') as f:\n",
    "    pickle.dump([gd_dict, valid_dat], f)"
   ]
  }
 ],
 "metadata": {
  "kernelspec": {
   "display_name": "Python 3",
   "language": "python",
   "name": "python3"
  },
  "language_info": {
   "codemirror_mode": {
    "name": "ipython",
    "version": 3
   },
   "file_extension": ".py",
   "mimetype": "text/x-python",
   "name": "python",
   "nbconvert_exporter": "python",
   "pygments_lexer": "ipython3",
   "version": "3.8.5"
  }
 },
 "nbformat": 4,
 "nbformat_minor": 4
}
