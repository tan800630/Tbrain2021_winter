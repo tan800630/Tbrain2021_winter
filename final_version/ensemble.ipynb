{
 "cells": [
  {
   "cell_type": "markdown",
   "metadata": {},
   "source": [
    "# Ensemble (averaging)\n",
    "將三份檔案的預測結果進行平均，再取期望值(prob^1.5 * price)的前三名作為預測輸出。"
   ]
  },
  {
   "cell_type": "code",
   "execution_count": 1,
   "metadata": {},
   "outputs": [],
   "source": [
    "import numpy as np\n",
    "import pandas as pd"
   ]
  },
  {
   "cell_type": "code",
   "execution_count": 2,
   "metadata": {},
   "outputs": [],
   "source": [
    "prob_1 = np.load('data/pred_prob_lgb_2var_customer+_card_v2+offon_card_deze_dt19_24_fe_1k.npy')\n",
    "prob_2 = np.load('data/pred_prob_lgb_2var_customer+_card_v2+offon_cnt_card_cnt_deze_dt19_24_fe_1k.npy')\n",
    "prob_3 = np.load('data/pred_prob_lgb_2var_customer+_card_v2+offon_cnt_card_deze_dt19_24_fe_1k.npy')\n",
    "\n",
    "price_1 = np.load('data/pred_price_lgb_2var_customer+_card_v2+offon_card_deze_dt19_24_fe_1k.npy')\n",
    "price_2 = np.load('data/pred_price_lgb_2var_customer+_card_v2+offon_cnt_card_cnt_deze_dt19_24_fe_1k.npy')\n",
    "price_3 = np.load('data/pred_price_lgb_2var_customer+_card_v2+offon_cnt_card_deze_dt19_24_fe_1k.npy')\n"
   ]
  },
  {
   "cell_type": "code",
   "execution_count": 3,
   "metadata": {},
   "outputs": [],
   "source": [
    "mean_prob = np.mean([prob_1, prob_2, prob_3], axis = 0)\n",
    "mean_price = np.mean([price_1, price_2, price_3], axis = 0)"
   ]
  },
  {
   "cell_type": "code",
   "execution_count": 4,
   "metadata": {},
   "outputs": [],
   "source": [
    "pred_class = ['2', '6', '10', '12', '13', '15', '18', '19', '21', '22', '25', '26', '36', '37', '39', '48']\n",
    "idx_to_class = {i:class_ for i, class_ in enumerate(pred_class)}"
   ]
  },
  {
   "cell_type": "code",
   "execution_count": 5,
   "metadata": {},
   "outputs": [],
   "source": [
    "submit = []\n",
    "prediction = mean_price*(mean_prob**1.5)\n",
    "for row in prediction:\n",
    "    submit.append(row.argsort()[-3:][::-1][np.newaxis,:])\n",
    "submit = np.vstack(submit)"
   ]
  },
  {
   "cell_type": "code",
   "execution_count": 6,
   "metadata": {},
   "outputs": [],
   "source": [
    "shape = submit.shape\n",
    "submit = submit.flatten()\n",
    "submit = np.array([idx_to_class[idx] for idx in submit])\n",
    "submit = submit.reshape(shape)"
   ]
  },
  {
   "cell_type": "code",
   "execution_count": 7,
   "metadata": {},
   "outputs": [],
   "source": [
    "submit_csv = pd.read_csv(\"sample_submission.csv\")\n",
    "submit_csv = submit_csv.sort_values(\"chid\")"
   ]
  },
  {
   "cell_type": "code",
   "execution_count": 8,
   "metadata": {},
   "outputs": [],
   "source": [
    "submit_csv.iloc[:,1:] = submit"
   ]
  },
  {
   "cell_type": "code",
   "execution_count": 9,
   "metadata": {},
   "outputs": [
    {
     "data": {
      "text/html": [
       "<div>\n",
       "<style scoped>\n",
       "    .dataframe tbody tr th:only-of-type {\n",
       "        vertical-align: middle;\n",
       "    }\n",
       "\n",
       "    .dataframe tbody tr th {\n",
       "        vertical-align: top;\n",
       "    }\n",
       "\n",
       "    .dataframe thead th {\n",
       "        text-align: right;\n",
       "    }\n",
       "</style>\n",
       "<table border=\"1\" class=\"dataframe\">\n",
       "  <thead>\n",
       "    <tr style=\"text-align: right;\">\n",
       "      <th></th>\n",
       "      <th>chid</th>\n",
       "      <th>top1</th>\n",
       "      <th>top2</th>\n",
       "      <th>top3</th>\n",
       "    </tr>\n",
       "  </thead>\n",
       "  <tbody>\n",
       "    <tr>\n",
       "      <th>224333</th>\n",
       "      <td>10000000</td>\n",
       "      <td>10</td>\n",
       "      <td>12</td>\n",
       "      <td>48</td>\n",
       "    </tr>\n",
       "    <tr>\n",
       "      <th>57948</th>\n",
       "      <td>10000001</td>\n",
       "      <td>48</td>\n",
       "      <td>12</td>\n",
       "      <td>37</td>\n",
       "    </tr>\n",
       "    <tr>\n",
       "      <th>14558</th>\n",
       "      <td>10000002</td>\n",
       "      <td>37</td>\n",
       "      <td>22</td>\n",
       "      <td>2</td>\n",
       "    </tr>\n",
       "    <tr>\n",
       "      <th>239971</th>\n",
       "      <td>10000003</td>\n",
       "      <td>37</td>\n",
       "      <td>22</td>\n",
       "      <td>2</td>\n",
       "    </tr>\n",
       "    <tr>\n",
       "      <th>384821</th>\n",
       "      <td>10000004</td>\n",
       "      <td>37</td>\n",
       "      <td>36</td>\n",
       "      <td>12</td>\n",
       "    </tr>\n",
       "    <tr>\n",
       "      <th>...</th>\n",
       "      <td>...</td>\n",
       "      <td>...</td>\n",
       "      <td>...</td>\n",
       "      <td>...</td>\n",
       "    </tr>\n",
       "    <tr>\n",
       "      <th>3396</th>\n",
       "      <td>10499995</td>\n",
       "      <td>2</td>\n",
       "      <td>10</td>\n",
       "      <td>15</td>\n",
       "    </tr>\n",
       "    <tr>\n",
       "      <th>283590</th>\n",
       "      <td>10499996</td>\n",
       "      <td>36</td>\n",
       "      <td>15</td>\n",
       "      <td>48</td>\n",
       "    </tr>\n",
       "    <tr>\n",
       "      <th>128151</th>\n",
       "      <td>10499997</td>\n",
       "      <td>36</td>\n",
       "      <td>48</td>\n",
       "      <td>25</td>\n",
       "    </tr>\n",
       "    <tr>\n",
       "      <th>426218</th>\n",
       "      <td>10499998</td>\n",
       "      <td>10</td>\n",
       "      <td>39</td>\n",
       "      <td>19</td>\n",
       "    </tr>\n",
       "    <tr>\n",
       "      <th>35647</th>\n",
       "      <td>10499999</td>\n",
       "      <td>22</td>\n",
       "      <td>25</td>\n",
       "      <td>37</td>\n",
       "    </tr>\n",
       "  </tbody>\n",
       "</table>\n",
       "<p>500000 rows × 4 columns</p>\n",
       "</div>"
      ],
      "text/plain": [
       "            chid top1 top2 top3\n",
       "224333  10000000   10   12   48\n",
       "57948   10000001   48   12   37\n",
       "14558   10000002   37   22    2\n",
       "239971  10000003   37   22    2\n",
       "384821  10000004   37   36   12\n",
       "...          ...  ...  ...  ...\n",
       "3396    10499995    2   10   15\n",
       "283590  10499996   36   15   48\n",
       "128151  10499997   36   48   25\n",
       "426218  10499998   10   39   19\n",
       "35647   10499999   22   25   37\n",
       "\n",
       "[500000 rows x 4 columns]"
      ]
     },
     "execution_count": 9,
     "metadata": {},
     "output_type": "execute_result"
    }
   ],
   "source": [
    "submit_csv"
   ]
  },
  {
   "cell_type": "code",
   "execution_count": 10,
   "metadata": {},
   "outputs": [],
   "source": [
    "submit_csv.to_csv('ensemble_0103.csv', index = False)"
   ]
  }
 ],
 "metadata": {
  "kernelspec": {
   "display_name": "Python 3",
   "language": "python",
   "name": "python3"
  },
  "language_info": {
   "codemirror_mode": {
    "name": "ipython",
    "version": 3
   },
   "file_extension": ".py",
   "mimetype": "text/x-python",
   "name": "python",
   "nbconvert_exporter": "python",
   "pygments_lexer": "ipython3",
   "version": "3.8.5"
  }
 },
 "nbformat": 4,
 "nbformat_minor": 4
}
